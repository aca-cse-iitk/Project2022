{
 "cells": [
  {
   "cell_type": "code",
   "execution_count": 148,
   "metadata": {},
   "outputs": [],
   "source": [
    "import numpy as np\n",
    "import pandas as pd\n",
    "import matplotlib.pyplot as plt "
   ]
  },
  {
   "cell_type": "code",
   "execution_count": 149,
   "metadata": {},
   "outputs": [],
   "source": [
    "def value(var,valrow):\n",
    "    return np.matmul(valrow,var)"
   ]
  },
  {
   "cell_type": "code",
   "execution_count": 150,
   "metadata": {},
   "outputs": [],
   "source": [
    "def normalisation(matrix):\n",
    "    for x in range(len(matrix[0,0:])):\n",
    "        mean=np.mean(matrix[0:,x])\n",
    "        std=np.std(matrix[0:,x])\n",
    "        for y in range(len(matrix)):\n",
    "            matrix[y,x]=matrix[y,x]-mean\n",
    "            matrix[y,x]/=std"
   ]
  },
  {
   "cell_type": "code",
   "execution_count": 157,
   "metadata": {},
   "outputs": [],
   "source": [
    "def cost(trainset,varset,train_y):\n",
    "    summation=0.0\n",
    "    for x in range(164):\n",
    "        summation+=(np.matmul(trainset[x,0:],varset)-train_y[x])**2\n",
    "    return summation/(2*164)    "
   ]
  },
  {
   "cell_type": "code",
   "execution_count": 152,
   "metadata": {},
   "outputs": [],
   "source": [
    "def grad(trainset,varset,train_y):\n",
    "     gradient=np.matmul((trainset.transpose()),np.subtract((np.matmul(trainset,varset)),train_y))\n",
    "     gradient=np.multiply(gradient,1/164)\n",
    "     return gradient\n",
    "     "
   ]
  },
  {
   "cell_type": "code",
   "execution_count": 153,
   "metadata": {},
   "outputs": [],
   "source": [
    "features=['carlength','carwidth','carheight','enginesize','stroke','horsepower']\n",
    "df=pd.read_csv('CarPrice_Assignment.csv')\n",
    "dataset=np.array(df[features])\n",
    "trainset=dataset[0:164,]\n",
    "testset=dataset[164:,]\n",
    "normalisation(trainset)\n",
    "r=[]\n",
    "for x in range(164):\n",
    "    r.append([1])\n",
    "row=np.array(r)\n",
    "trainset=np.hstack((trainset,row)) \n",
    "price=np.array(df['price'])\n",
    "train_price=price[0:164,]\n",
    "test_price=price[164:,]"
   ]
  },
  {
   "cell_type": "code",
   "execution_count": 159,
   "metadata": {},
   "outputs": [],
   "source": [
    "variablecol=[]\n",
    "for x in range(7):\n",
    "    variablecol.append([1.0])\n",
    "variables=np.array(variablecol)\n",
    "j_min=[]\n",
    "iterations=[200,400,600,800,1000,1200,1400,1600]\n",
    "for x in range(2000):\n",
    "    mat=np.subtract(variables,np.multiply(grad(trainset,variables,train_price),0.001))\n",
    "    variables=mat\n",
    "    if x in iterations:\n",
    "        j_min.append(cost(trainset,variables,train_price))"
   ]
  },
  {
   "cell_type": "code",
   "execution_count": 162,
   "metadata": {},
   "outputs": [
    {
     "ename": "IndexError",
     "evalue": "too many indices for array: array is 1-dimensional, but 2 were indexed",
     "output_type": "error",
     "traceback": [
      "\u001b[1;31m---------------------------------------------------------------------------\u001b[0m",
      "\u001b[1;31mIndexError\u001b[0m                                Traceback (most recent call last)",
      "\u001b[1;32mf:\\python\\assignment2\\ml.ipynb Cell 8'\u001b[0m in \u001b[0;36m<cell line: 2>\u001b[1;34m()\u001b[0m\n\u001b[0;32m      <a href='vscode-notebook-cell:/f%3A/python/assignment2/ml.ipynb#ch0000015?line=0'>1</a>\u001b[0m predicted\u001b[39m=\u001b[39m[]\n\u001b[0;32m      <a href='vscode-notebook-cell:/f%3A/python/assignment2/ml.ipynb#ch0000015?line=1'>2</a>\u001b[0m \u001b[39mfor\u001b[39;00m x \u001b[39min\u001b[39;00m \u001b[39mrange\u001b[39m(\u001b[39mlen\u001b[39m(testset)):\n\u001b[1;32m----> <a href='vscode-notebook-cell:/f%3A/python/assignment2/ml.ipynb#ch0000015?line=2'>3</a>\u001b[0m     predicted\u001b[39m.\u001b[39mappend(value(variables,test_price[x,\u001b[39m0\u001b[39;49m:]))\n\u001b[0;32m      <a href='vscode-notebook-cell:/f%3A/python/assignment2/ml.ipynb#ch0000015?line=3'>4</a>\u001b[0m \u001b[39mprint\u001b[39m(predicted)\n",
      "\u001b[1;31mIndexError\u001b[0m: too many indices for array: array is 1-dimensional, but 2 were indexed"
     ]
    }
   ],
   "source": [
    "predicted=[]\n",
    "for x in range(len(testset)):\n",
    "    predicted.append(value(variables,test_price[x,0:]))\n",
    "print(predicted)    "
   ]
  }
 ],
 "metadata": {
  "kernelspec": {
   "display_name": "Python 3.10.4 64-bit",
   "language": "python",
   "name": "python3"
  },
  "language_info": {
   "codemirror_mode": {
    "name": "ipython",
    "version": 3
   },
   "file_extension": ".py",
   "mimetype": "text/x-python",
   "name": "python",
   "nbconvert_exporter": "python",
   "pygments_lexer": "ipython3",
   "version": "3.10.4"
  },
  "orig_nbformat": 4,
  "vscode": {
   "interpreter": {
    "hash": "fb4569285eef3a3450cb62085a5b1e0da4bce0af555edc33dcf29baf3acc1368"
   }
  }
 },
 "nbformat": 4,
 "nbformat_minor": 2
}

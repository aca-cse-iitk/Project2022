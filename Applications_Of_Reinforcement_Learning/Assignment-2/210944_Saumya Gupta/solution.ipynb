{
 "cells": [
  {
   "cell_type": "markdown",
   "metadata": {},
   "source": [
    "### Importing libraries"
   ]
  },
  {
   "cell_type": "code",
   "execution_count": 300,
   "metadata": {},
   "outputs": [],
   "source": [
    "import numpy as np\n",
    "import pandas as pd\n",
    "import matplotlib.pyplot as plt"
   ]
  },
  {
   "cell_type": "markdown",
   "metadata": {},
   "source": [
    "### Feature Scaling"
   ]
  },
  {
   "cell_type": "code",
   "execution_count": 301,
   "metadata": {},
   "outputs": [],
   "source": [
    "def featureScaling(x):\n",
    "    mu = np.average(x,axis =0)\n",
    "    mu = mu.reshape(mu.shape[0],1)\n",
    "    mu = mu.transpose()\n",
    "    s = np.max(x,axis=0) - np.min(x,axis=0)\n",
    "    s = s.reshape(s.shape[0],1)\n",
    "    s = s.transpose()\n",
    "    for c in range(np.size(x,0)):\n",
    "        x[c,:] = np.divide(np.subtract(x[c,:],mu),s)\n",
    "    return x    "
   ]
  },
  {
   "cell_type": "markdown",
   "metadata": {},
   "source": [
    "### Hypoteshis "
   ]
  },
  {
   "cell_type": "code",
   "execution_count": 302,
   "metadata": {},
   "outputs": [],
   "source": [
    "def hypothesis(thetha,x):\n",
    "    return np.dot(x,thetha)"
   ]
  },
  {
   "cell_type": "markdown",
   "metadata": {},
   "source": [
    "### Cost Function"
   ]
  },
  {
   "cell_type": "code",
   "execution_count": 303,
   "metadata": {},
   "outputs": [],
   "source": [
    "def computeCost(x,y,m,n,thetha):\n",
    "    y1 = hypothesis(thetha,x)\n",
    "    return np.sum(np.square(y1-y))/(2*m)\n",
    "    "
   ]
  },
  {
   "cell_type": "markdown",
   "metadata": {},
   "source": [
    "### Gradient Descent"
   ]
  },
  {
   "cell_type": "code",
   "execution_count": 304,
   "metadata": {},
   "outputs": [],
   "source": [
    "def gradientDescent(x,y,m,n,thetha,alpha,i):\n",
    "    J=[]\n",
    "    k=0\n",
    "    while(k<i):\n",
    "        y1 = hypothesis(thetha,x)\n",
    "        thetha = thetha - (alpha/m)*np.dot(x.transpose(),y1-y)\n",
    "        j=computeCost(x,y,m,n,thetha)\n",
    "        J.append(j)\n",
    "        k+=1\n",
    "    return J, j, thetha\n"
   ]
  },
  {
   "cell_type": "markdown",
   "metadata": {},
   "source": [
    "### Main()"
   ]
  },
  {
   "cell_type": "code",
   "execution_count": 305,
   "metadata": {},
   "outputs": [],
   "source": [
    "#main fn()\n",
    "df = pd.read_csv(\"CarPrice_Assignment.csv\")\n",
    "#training data\n",
    "data1 = df[['carlength', 'carwidth', 'carheight', 'enginesize', 'stroke', 'horsepower', 'price']].copy()\n",
    "data = data1.sample(frac=0.80)\n",
    "testingData = data1.drop(data.index) \n",
    "data = data.sort_index()\n",
    "data = data.reset_index(drop=True)\n",
    "x = data.drop(columns='price')\n",
    "y = data[['price']].copy()\n",
    "x = x.to_numpy()\n",
    "y = y.to_numpy()\n",
    "x = featureScaling(x)\n",
    "y = featureScaling(y)\n",
    "m = np.size(x,0)\n",
    "n = np.size(x,1)\n",
    "thetha = np.array([0]*n)\n",
    "thetha = thetha.reshape(thetha.shape[0],1)\n",
    "J, j, thetha = gradientDescent(x, y,m,n,thetha, 0.02, 5000)"
   ]
  },
  {
   "cell_type": "markdown",
   "metadata": {},
   "source": [
    "### Plotting Cost Function"
   ]
  },
  {
   "cell_type": "code",
   "execution_count": 306,
   "metadata": {},
   "outputs": [
    {
     "data": {
      "image/png": "[encoded data removed]",
      "text/plain": [
       "<Figure size 432x288 with 1 Axes>"
      ]
     },
     "metadata": {
      "needs_background": "light"
     },
     "output_type": "display_data"
    }
   ],
   "source": [
    "plt.scatter(x=list(range(0, 5000)), y=J)\n",
    "plt.show()"
   ]
  },
  {
   "cell_type": "markdown",
   "metadata": {},
   "source": [
    "### Predicting price for test data"
   ]
  },
  {
   "cell_type": "code",
   "execution_count": 307,
   "metadata": {},
   "outputs": [],
   "source": [
    "testingData = testingData.sort_index()\n",
    "testingData = testingData.reset_index(drop=True)\n",
    "xtest = testingData.drop(columns='price')\n",
    "ytest = testingData[['price']].copy()\n",
    "xtest = xtest.to_numpy()\n",
    "ytest = ytest.to_numpy()\n",
    "ypred = hypothesis(thetha,xtest)"
   ]
  },
  {
   "cell_type": "markdown",
   "metadata": {},
   "source": [
    "### Finding out mean squared error of the model"
   ]
  },
  {
   "cell_type": "code",
   "execution_count": 308,
   "metadata": {},
   "outputs": [
    {
     "name": "stdout",
     "output_type": "stream",
     "text": [
      "Mean squared error of the model: 297893358.2182616\n"
     ]
    }
   ],
   "source": [
    "mse = (np.sum(np.square(ypred-ytest)))/np.size(ypred,0)\n",
    "print(\"Mean squared error of the model:\",mse)"
   ]
  },
  {
   "cell_type": "markdown",
   "metadata": {},
   "source": [
    "### Finding car price for Ishan Bawne"
   ]
  },
  {
   "cell_type": "code",
   "execution_count": 309,
   "metadata": {},
   "outputs": [
    {
     "name": "stdout",
     "output_type": "stream",
     "text": [
      "Price of the car:  [[149.50640405]]\n"
     ]
    }
   ],
   "source": [
    "x2 = np.array([[190.9,70.3,54.9,183,3.64,123]])\n",
    "print(\"Price of the car: \", hypothesis(thetha,x2))"
   ]
  }
 ],
 "metadata": {
  "kernelspec": {
   "display_name": "Python 3.10.5 64-bit",
   "language": "python",
   "name": "python3"
  },
  "language_info": {
   "codemirror_mode": {
    "name": "ipython",
    "version": 3
   },
   "file_extension": ".py",
   "mimetype": "text/x-python",
   "name": "python",
   "nbconvert_exporter": "python",
   "pygments_lexer": "ipython3",
   "version": "3.10.5"
  },
  "orig_nbformat": 4,
  "vscode": {
   "interpreter": {
    "hash": "027efd7095115064582efab50921964d678032cf36f1ec215c675cf4ffc5e6b9"
   }
  }
 },
 "nbformat": 4,
 "nbformat_minor": 2
}

{
  "cells": [
    {
      "cell_type": "markdown",
      "metadata": {
        "id": "sYnBXr7U58cA"
      },
      "source": [
        "## Q-learning (3 points)\n",
        "\n",
        "This notebook will guide you through implementation of vanilla Q-learning algorithm.\n",
        "\n",
        "You need to implement QLearningAgent (follow instructions for each method) and use it on a number of tests below."
      ]
    },
    {
      "cell_type": "code",
      "execution_count": 30,
      "metadata": {
        "id": "RMMhfd2_58cJ"
      },
      "outputs": [],
      "source": [
        "import sys, os\n",
        "if 'google.colab' in sys.modules and not os.path.exists('.setup_complete'):\n",
        "    !wget -q https://raw.githubusercontent.com/yandexdataschool/Practical_RL/master/setup_colab.sh -O- | bash\n",
        "\n",
        "    !touch .setup_complete\n",
        "\n",
        "# This code creates a virtual display to draw game images on.\n",
        "# It will have no effect if your machine has a monitor.\n",
        "if type(os.environ.get(\"DISPLAY\")) is not str or len(os.environ.get(\"DISPLAY\")) == 0:\n",
        "    !bash ../xvfb start\n",
        "    os.environ['DISPLAY'] = ':1'"
      ]
    },
    {
      "cell_type": "code",
      "execution_count": 31,
      "metadata": {
        "id": "_Qg_kM-g58cN"
      },
      "outputs": [],
      "source": [
        "import numpy as np\n",
        "import matplotlib.pyplot as plt\n",
        "%matplotlib inline"
      ]
    },
    {
      "cell_type": "code",
      "execution_count": 48,
      "metadata": {
        "id": "Nve5eQFJ58cO"
      },
      "outputs": [],
      "source": [
        "from collections import defaultdict\n",
        "import random\n",
        "import math\n",
        "import numpy as np\n",
        "\n",
        "\n",
        "class QLearningAgent:\n",
        "    def __init__(self, alpha, epsilon, discount, get_legal_actions):\n",
        "        \"\"\"\n",
        "        Q-Learning Agent\n",
        "        based on https://inst.eecs.berkeley.edu/~cs188/sp19/projects.html\n",
        "        Instance variables you have access to\n",
        "          - self.epsilon (exploration prob)\n",
        "          - self.alpha (learning rate)\n",
        "          - self.discount (discount rate aka gamma)\n",
        "\n",
        "        Functions you should use\n",
        "          - self.get_legal_actions(state) {state, hashable -> list of actions, each is hashable}\n",
        "            which returns legal actions for a state\n",
        "          - self.get_qvalue(state,action)\n",
        "            which returns Q(state,action)\n",
        "          - self.set_qvalue(state,action,value)\n",
        "            which sets Q(state,action) := value\n",
        "        !!!Important!!!\n",
        "        Note: please avoid using self._qValues directly. \n",
        "            There's a special self.get_qvalue/set_qvalue for that.\n",
        "        \"\"\"\n",
        "\n",
        "        self.get_legal_actions = get_legal_actions\n",
        "        self._qvalues = defaultdict(lambda: defaultdict(lambda: 0))\n",
        "        self.alpha = alpha\n",
        "        self.epsilon = epsilon\n",
        "        self.discount = discount\n",
        "\n",
        "    def get_qvalue(self, state, action):\n",
        "        \"\"\" Returns Q(state,action) \"\"\"\n",
        "        return self._qvalues[state][action]\n",
        "\n",
        "    def set_qvalue(self, state, action, value):\n",
        "        \"\"\" Sets the Qvalue for [state,action] to the given value \"\"\"\n",
        "        self._qvalues[state][action] = value\n",
        "\n",
        "    #--------------------Start of your code------------------#\n",
        "\n",
        "    def get_value(self, state):\n",
        "        \"\"\"\n",
        "        Compute your agent's estimate of V(s) using current q-values\n",
        "        V(s) = max_over_action Q(state,action) over possible actions.\n",
        "        Note: please take into account that q-values can be negative.\n",
        "        \"\"\"\n",
        "        possible_actions = self.get_legal_actions(state)\n",
        "\n",
        "        # If there are no legal actions, return 0.0\n",
        "        if len(possible_actions) == 0:\n",
        "            return 0.0\n",
        "\n",
        "        #<YOUR CODE>\n",
        "        x=len(possible_actions)\n",
        "        arr=[0]*x\n",
        "        for i in range(x):\n",
        "          arr[i] = self.get_qvalue(state,possible_actions[i])\n",
        "\n",
        "        return np.amax(arr)\n",
        "\n",
        "    def update(self, state, action, reward, next_state):\n",
        "        \"\"\"\n",
        "        You should do your Q-Value update here:\n",
        "           Q(s,a) := (1 - alpha) * Q(s,a) + alpha * (r + gamma * V(s'))\n",
        "        \"\"\"\n",
        "\n",
        "        # agent parameters\n",
        "        gamma = self.discount\n",
        "        learning_rate = self.alpha\n",
        "\n",
        "        #<YOUR CODE>\n",
        "        next= self.get_value(next_state)\n",
        "        q_value = ((1-learning_rate)*self.get_qvalue(state,action)) + (learning_rate*(reward + gamma*next))\n",
        "\n",
        "        self.set_qvalue(state, action, q_value)\n",
        "\n",
        "    def get_best_action(self, state):\n",
        "        \"\"\"\n",
        "        Compute the best action to take in a state (using current q-values). \n",
        "        \"\"\"\n",
        "        possible_actions = self.get_legal_actions(state)\n",
        "\n",
        "        # If there are no legal actions, return None\n",
        "        if len(possible_actions) == 0:\n",
        "            return None\n",
        "\n",
        "        #<YOUR CODE>\n",
        "        l = len(possible_actions)\n",
        "        x = [0]*l\n",
        "        for i in range(l):\n",
        "          x[i] = self.get_qvalue(state,possible_actions[i])\n",
        "\n",
        "        return possible_actions[np.argmax(x)]\n",
        "\n",
        "    def get_action(self, state):\n",
        "        \"\"\"\n",
        "        Compute the action to take in the current state, including exploration.  \n",
        "        With probability self.epsilon, we should take a random action.\n",
        "            otherwise - the best policy action (self.get_best_action).\n",
        "\n",
        "        Note: To pick randomly from a list, use random.choice(list). \n",
        "              To pick True or False with a given probablity, generate uniform number in [0, 1]\n",
        "              and compare it with your probability\n",
        "        \"\"\"\n",
        "\n",
        "        # Pick Action\n",
        "        possible_actions = self.get_legal_actions(state)\n",
        "        action = None\n",
        "\n",
        "        # If there are no legal actions, return None\n",
        "        if len(possible_actions) == 0:\n",
        "            return None\n",
        "\n",
        "        # agent parameters:\n",
        "        epsilon = self.epsilon\n",
        "\n",
        "        #<YOUR CODE>\n",
        "        r = random.uniform(0,1)\n",
        "\n",
        "        if r<epsilon :\n",
        "         q = self.get_best_action(self, state)\n",
        "\n",
        "        else :\n",
        "          q= random.choice(possible_actions)\n",
        "\n",
        "        return q"
      ]
    },
    {
      "cell_type": "markdown",
      "metadata": {
        "id": "HElhgOf858cS"
      },
      "source": [
        "### Try it on taxi\n",
        "\n",
        "Here we use the qlearning agent on taxi env from openai gym.\n",
        "You will need to insert a few agent functions here."
      ]
    },
    {
      "cell_type": "code",
      "execution_count": 33,
      "metadata": {
        "id": "CffL7pbr58cT"
      },
      "outputs": [],
      "source": [
        "import gym\n",
        "env = gym.make(\"Taxi-v3\")\n",
        "\n",
        "n_actions = env.action_space.n"
      ]
    },
    {
      "cell_type": "code",
      "execution_count": 34,
      "metadata": {
        "id": "LcP9mnqG58cU"
      },
      "outputs": [],
      "source": [
        "agent = QLearningAgent(\n",
        "    alpha=0.5, epsilon=0.25, discount=0.99,\n",
        "    get_legal_actions=lambda s: range(n_actions))"
      ]
    },
    {
      "cell_type": "code",
      "execution_count": 35,
      "metadata": {
        "id": "CHqBpgSA58cW"
      },
      "outputs": [],
      "source": [
        "def play_and_train(env, agent, t_max=10**4):\n",
        "    \"\"\"\n",
        "    This function should \n",
        "    - run a full game, actions given by agent's e-greedy policy\n",
        "    - train agent using agent.update(...) whenever it is possible\n",
        "    - return total reward\n",
        "    \"\"\"\n",
        "    total_reward = 0.0\n",
        "    s = env.reset()\n",
        "\n",
        "    for t in range(t_max):\n",
        "        # get agent to pick action given state s.\n",
        "        a = agent.get_best_action(s)\n",
        "\n",
        "        next_s, r, done, _ = env.step(a)\n",
        "\n",
        "        # train (update) agent for state s\n",
        "        #<YOUR CODE>\n",
        "        agent.update(s,a,r,next_s)\n",
        "\n",
        "        s = next_s\n",
        "        total_reward += r\n",
        "        if done:\n",
        "            break\n",
        "\n",
        "    return total_reward"
      ]
    },
    {
      "cell_type": "code",
      "execution_count": 36,
      "metadata": {
        "id": "r2Nof_D458cY",
        "outputId": "2752ca33-bcc4-497e-fb40-d8eec6f24c6e",
        "colab": {
          "base_uri": "https://localhost:8080/",
          "height": 281
        }
      },
      "outputs": [
        {
          "output_type": "display_data",
          "data": {
            "text/plain": [
              "<Figure size 432x288 with 1 Axes>"
            ],
            "image/png": "[encoded data removed]"
          },
          "metadata": {
            "needs_background": "light"
          }
        }
      ],
      "source": [
        "from IPython.display import clear_output\n",
        "\n",
        "rewards = []\n",
        "for i in range(1000):\n",
        "    rewards.append(play_and_train(env, agent))\n",
        "    agent.epsilon *= 0.99\n",
        "\n",
        "    if i % 100 == 0:\n",
        "        clear_output(True)\n",
        "        plt.title('eps = {:e}, mean reward = {:.1f}'.format(agent.epsilon, np.mean(rewards[-10:])))\n",
        "        plt.plot(rewards)\n",
        "        plt.show()"
      ]
    },
    {
      "cell_type": "markdown",
      "metadata": {
        "id": "leGhbz_958ca"
      },
      "source": [
        "# Binarized state spaces\n",
        "\n",
        "Use agent to train efficiently on `CartPole-v0`. This environment has a continuous set of possible states, so you will have to group them into bins somehow.\n",
        "\n",
        "The simplest way is to use `round(x, n_digits)` (or `np.round`) to round a real number to a given amount of digits. The tricky part is to get the `n_digits` right for each state to train effectively.\n",
        "\n",
        "Note that you don't need to convert state to integers, but to __tuples__ of any kind of values."
      ]
    },
    {
      "cell_type": "code",
      "execution_count": 37,
      "metadata": {
        "id": "Gfu0lbSO58cc",
        "colab": {
          "base_uri": "https://localhost:8080/",
          "height": 304
        },
        "outputId": "2a8b279e-12dd-4697-ac24-f05b1c32bef5"
      },
      "outputs": [
        {
          "output_type": "stream",
          "name": "stdout",
          "text": [
            "first state: [-0.04108834 -0.00799336  0.02728586 -0.01156614]\n"
          ]
        },
        {
          "output_type": "execute_result",
          "data": {
            "text/plain": [
              "<matplotlib.image.AxesImage at 0x7f5225535710>"
            ]
          },
          "metadata": {},
          "execution_count": 37
        },
        {
          "output_type": "display_data",
          "data": {
            "text/plain": [
              "<Figure size 432x288 with 1 Axes>"
            ],
            "image/png": "[encoded data removed]"
          },
          "metadata": {
            "needs_background": "light"
          }
        }
      ],
      "source": [
        "def make_env():\n",
        "    return gym.make('CartPole-v0').env  # .env unwraps the TimeLimit wrapper\n",
        "\n",
        "env = make_env()\n",
        "n_actions = env.action_space.n\n",
        "\n",
        "print(\"first state: %s\" % (env.reset()))\n",
        "plt.imshow(env.render('rgb_array'))"
      ]
    },
    {
      "cell_type": "markdown",
      "metadata": {
        "id": "-i8RyBRo58cc"
      },
      "source": [
        "### Play a few games\n",
        "\n",
        "We need to estimate observation distributions. To do so, we'll play a few games and record all states."
      ]
    },
    {
      "cell_type": "code",
      "execution_count": 38,
      "metadata": {
        "id": "Zme_a29a58cd"
      },
      "outputs": [],
      "source": [
        "def visualize_cartpole_observation_distribution(seen_observations):\n",
        "    seen_observations = np.array(seen_observations)\n",
        "    \n",
        "    # The meaning of the observations is documented in\n",
        "    # https://github.com/openai/gym/blob/master/gym/envs/classic_control/cartpole.py\n",
        "\n",
        "    f, axarr = plt.subplots(2, 2, figsize=(16, 9), sharey=True)\n",
        "    for i, title in enumerate(['Cart Position', 'Cart Velocity', 'Pole Angle', 'Pole Velocity At Tip']):\n",
        "        ax = axarr[i // 2, i % 2]\n",
        "        ax.hist(seen_observations[:, i], bins=20)\n",
        "        ax.set_title(title)\n",
        "        xmin, xmax = ax.get_xlim()\n",
        "        ax.set_xlim(min(xmin, -xmax), max(-xmin, xmax))\n",
        "        ax.grid()\n",
        "    f.tight_layout()"
      ]
    },
    {
      "cell_type": "code",
      "execution_count": 39,
      "metadata": {
        "id": "OOK05Ilw58ce",
        "outputId": "b1811671-5ba3-4950-a737-5d77f8791405",
        "colab": {
          "base_uri": "https://localhost:8080/",
          "height": 562
        }
      },
      "outputs": [
        {
          "output_type": "display_data",
          "data": {
            "text/plain": [
              "<Figure size 1152x648 with 4 Axes>"
            ],
            "image/png": "[encoded data removed]"
          },
          "metadata": {
            "needs_background": "light"
          }
        }
      ],
      "source": [
        "seen_observations = []\n",
        "for _ in range(1000):\n",
        "    seen_observations.append(env.reset())\n",
        "    done = False\n",
        "    while not done:\n",
        "        s, r, done, _ = env.step(env.action_space.sample())\n",
        "        seen_observations.append(s)\n",
        "\n",
        "visualize_cartpole_observation_distribution(seen_observations)"
      ]
    },
    {
      "cell_type": "markdown",
      "metadata": {
        "id": "_tLeCpuK58cf"
      },
      "source": [
        "## Binarize environment"
      ]
    },
    {
      "cell_type": "code",
      "source": [
        "import numpy as np"
      ],
      "metadata": {
        "id": "XhKAkd6B66i9"
      },
      "execution_count": 40,
      "outputs": []
    },
    {
      "cell_type": "code",
      "execution_count": 49,
      "metadata": {
        "id": "vpopuDiJ58cf"
      },
      "outputs": [],
      "source": [
        "from gym.core import ObservationWrapper\n",
        "\n",
        "\n",
        "class Binarizer(ObservationWrapper):\n",
        "    def observation(self,  state):\n",
        "        # Hint: you can do that with round(x, n_digits).\n",
        "        # You may pick a different n_digits for each dimension.\n",
        "        l = len(state)\n",
        "        k = [0]*l\n",
        "        for i in range(l):\n",
        "          k[i] = np.round(state[i],3)\n",
        "\n",
        "        return tuple(k)"
      ]
    },
    {
      "cell_type": "code",
      "execution_count": 50,
      "metadata": {
        "id": "7YPFxXpL58cg"
      },
      "outputs": [],
      "source": [
        "env = Binarizer(make_env())"
      ]
    },
    {
      "cell_type": "code",
      "execution_count": 51,
      "metadata": {
        "id": "2UST2HT858cg",
        "colab": {
          "base_uri": "https://localhost:8080/",
          "height": 562
        },
        "outputId": "dfaf5db0-ebe9-4550-bb9f-1b6485c84226"
      },
      "outputs": [
        {
          "output_type": "display_data",
          "data": {
            "text/plain": [
              "<Figure size 1152x648 with 4 Axes>"
            ],
            "image/png": "[encoded data removed]"
          },
          "metadata": {
            "needs_background": "light"
          }
        }
      ],
      "source": [
        "seen_observations = []\n",
        "for _ in range(1000):\n",
        "    seen_observations.append(env.reset())\n",
        "    done = False\n",
        "    while not done:\n",
        "        s, r, done, _ = env.step(env.action_space.sample())\n",
        "        seen_observations.append(s)\n",
        "        if done:\n",
        "            break\n",
        "\n",
        "visualize_cartpole_observation_distribution(seen_observations)"
      ]
    },
    {
      "cell_type": "markdown",
      "metadata": {
        "id": "Ru34I1lD58ch"
      },
      "source": [
        "## Learn binarized policy\n",
        "\n",
        "Now let's train a policy that uses binarized state space.\n",
        "\n",
        "__Tips:__\n",
        "\n",
        "* Note that increasing the number of digits for one dimension of the observations increases your state space by a factor of $10$.\n",
        "* If your binarization is too fine-grained, your agent will take much longer than 10000 steps to converge. You can either increase the number of iterations and reduce epsilon decay or change binarization. In practice we found that this kind of mistake is rather frequent.\n",
        "* If your binarization is too coarse, your agent may fail to find the optimal policy. In practice we found that on this particular environment this kind of mistake is rare.\n",
        "* **Start with a coarse binarization** and make it more fine-grained if that seems necessary.\n",
        "* Having $10^3$–$10^4$ distinct states is recommended (`len(agent._qvalues)`), but not required.\n",
        "* If things don't work without annealing $\\varepsilon$, consider adding that, but make sure that it doesn't go to zero too quickly.\n",
        "\n",
        "A reasonable agent should attain an average reward of at least 50."
      ]
    },
    {
      "cell_type": "code",
      "execution_count": 44,
      "metadata": {
        "id": "Up5ANHm-58ci"
      },
      "outputs": [],
      "source": [
        "import pandas as pd\n",
        "\n",
        "def moving_average(x, span=100):\n",
        "    return pd.DataFrame({'x': np.asarray(x)}).x.ewm(span=span).mean().values"
      ]
    },
    {
      "cell_type": "code",
      "execution_count": 45,
      "metadata": {
        "id": "djEojne158ci"
      },
      "outputs": [],
      "source": [
        "agent = QLearningAgent(\n",
        "    alpha=0.5, epsilon=0.25, discount=0.99,\n",
        "    get_legal_actions=lambda s: range(n_actions))"
      ]
    },
    {
      "cell_type": "code",
      "execution_count": 46,
      "metadata": {
        "id": "7qJk0xsH58ci",
        "colab": {
          "base_uri": "https://localhost:8080/",
          "height": 281
        },
        "outputId": "7ac507f7-0108-4819-8696-79798265dadd"
      },
      "outputs": [
        {
          "output_type": "display_data",
          "data": {
            "text/plain": [
              "<Figure size 432x288 with 1 Axes>"
            ],
            "image/png": "[encoded data removed]"
          },
          "metadata": {
            "needs_background": "light"
          }
        }
      ],
      "source": [
        "rewards = []\n",
        "epsilons = []\n",
        "\n",
        "for i in range(10000):\n",
        "    reward = play_and_train(env, agent)\n",
        "    rewards.append(reward)\n",
        "    epsilons.append(agent.epsilon)\n",
        "    \n",
        "    # OPTIONAL: <YOUR CODE: adjust epsilon>\n",
        "\n",
        "    if i % 100 == 0:\n",
        "        rewards_ewma = moving_average(rewards)\n",
        "        \n",
        "        clear_output(True)\n",
        "        plt.plot(rewards, label='rewards')\n",
        "        plt.plot(rewards_ewma, label='rewards ewma@100')\n",
        "        plt.legend()\n",
        "        plt.grid()\n",
        "        plt.title('eps = {:e}, rewards ewma@100 = {:.1f}'.format(agent.epsilon, rewards_ewma[-1]))\n",
        "        plt.show()"
      ]
    },
    {
      "cell_type": "code",
      "execution_count": 47,
      "metadata": {
        "id": "Z0HesBXw58cj",
        "colab": {
          "base_uri": "https://localhost:8080/"
        },
        "outputId": "bd34e9cf-69c8-4038-991b-9db9e2ff5586"
      },
      "outputs": [
        {
          "output_type": "stream",
          "name": "stdout",
          "text": [
            "Your agent has learned 103484 Q-values.\n"
          ]
        }
      ],
      "source": [
        "print('Your agent has learned {} Q-values.'.format(len(agent._qvalues)))"
      ]
    },
    {
      "cell_type": "code",
      "source": [
        ""
      ],
      "metadata": {
        "id": "3LY2ATndgCpR"
      },
      "execution_count": 20,
      "outputs": []
    }
  ],
  "metadata": {
    "language_info": {
      "name": "python"
    },
    "colab": {
      "name": "210353_DIVYA_sem_qlearning.ipynb",
      "provenance": [],
      "collapsed_sections": []
    },
    "kernelspec": {
      "name": "python3",
      "display_name": "Python 3"
    },
    "gpuClass": "standard"
  },
  "nbformat": 4,
  "nbformat_minor": 0
}
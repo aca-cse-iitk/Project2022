{
 "cells": [
  {
   "cell_type": "code",
   "execution_count": 1,
   "metadata": {},
   "outputs": [],
   "source": [
    "import numpy as np\n",
    "from numpy import random"
   ]
  },
  {
   "cell_type": "code",
   "execution_count": 2,
   "metadata": {},
   "outputs": [],
   "source": [
    "def getminor(m,i,j):\n",
    "    minor=[]\n",
    "    for x in range(len(m)):\n",
    "        row=[]\n",
    "        for y in range(len(m)):\n",
    "            if x!=i or y!=j:\n",
    "                minor.append(m[x,y])\n",
    "        minor.append(row)\n",
    "    finalminor=np.array(minor)\n",
    "    return finalminor            "
   ]
  },
  {
   "cell_type": "code",
   "execution_count": 3,
   "metadata": {},
   "outputs": [],
   "source": [
    "def determinant(m):\n",
    "    if len(m)==2:\n",
    "        return m[0,0]*m[1,1]-m[0,1]*m[1,0]\n",
    "    else:\n",
    "        det=0\n",
    "        for x in range(1):\n",
    "            for y in range(len(m)):\n",
    "                det+=(m[x,y]*determinant(getminor(m,x,y)))\n",
    "    return det                "
   ]
  },
  {
   "cell_type": "code",
   "execution_count": 4,
   "metadata": {},
   "outputs": [],
   "source": [
    "def adjoint(m):\n",
    "    adj=[]\n",
    "    for x in m:\n",
    "        row=[]\n",
    "        for y in x:\n",
    "            row.append(((-1)**(x+y))*determinant(getminor(m,x,y)))\n",
    "        adj.append(row)\n",
    "    finaladj=np.array(adj)\n",
    "    return finaladj                "
   ]
  },
  {
   "cell_type": "code",
   "execution_count": 5,
   "metadata": {},
   "outputs": [],
   "source": [
    "def swap(a,b):\n",
    "    c=a\n",
    "    a=b\n",
    "    b=c"
   ]
  },
  {
   "cell_type": "code",
   "execution_count": 6,
   "metadata": {},
   "outputs": [],
   "source": [
    "def transpose(m):\n",
    "    for x in range(len(m)):\n",
    "        for y in range(0,x):\n",
    "            swap(m[x,y],m[y,x])\n",
    "    return m        "
   ]
  },
  {
   "cell_type": "code",
   "execution_count": 7,
   "metadata": {},
   "outputs": [],
   "source": [
    "n=int(input())"
   ]
  },
  {
   "cell_type": "code",
   "execution_count": 9,
   "metadata": {},
   "outputs": [
    {
     "name": "stderr",
     "output_type": "stream",
     "text": [
      "C:\\Users\\user\\AppData\\Local\\Temp\\ipykernel_24956\\3191829852.py:6: RuntimeWarning: invalid value encountered in power\n",
      "  row.append(((-1)**(x+y))*determinant(getminor(m,x,y)))\n"
     ]
    },
    {
     "ename": "ValueError",
     "evalue": "The truth value of an array with more than one element is ambiguous. Use a.any() or a.all()",
     "output_type": "error",
     "traceback": [
      "\u001b[1;31m---------------------------------------------------------------------------\u001b[0m",
      "\u001b[1;31mValueError\u001b[0m                                Traceback (most recent call last)",
      "\u001b[1;32mf:\\python\\matinverse.ipynb Cell 8'\u001b[0m in \u001b[0;36m<cell line: 4>\u001b[1;34m()\u001b[0m\n\u001b[0;32m      <a href='vscode-notebook-cell:/f%3A/python/matinverse.ipynb#ch0000007?line=1'>2</a>\u001b[0m array2\u001b[39m=\u001b[39mrandom\u001b[39m.\u001b[39mrand(n,n)\n\u001b[0;32m      <a href='vscode-notebook-cell:/f%3A/python/matinverse.ipynb#ch0000007?line=2'>3</a>\u001b[0m arr\u001b[39m=\u001b[39mnp\u001b[39m.\u001b[39madd(array1,array2)\n\u001b[1;32m----> <a href='vscode-notebook-cell:/f%3A/python/matinverse.ipynb#ch0000007?line=3'>4</a>\u001b[0m arr2\u001b[39m=\u001b[39madjoint(arr) \u001b[39m#creating a matrix with float entries\u001b[39;00m\n\u001b[0;32m      <a href='vscode-notebook-cell:/f%3A/python/matinverse.ipynb#ch0000007?line=4'>5</a>\u001b[0m det\u001b[39m=\u001b[39mdeterminant(arr)\n\u001b[0;32m      <a href='vscode-notebook-cell:/f%3A/python/matinverse.ipynb#ch0000007?line=5'>6</a>\u001b[0m \u001b[39mfor\u001b[39;00m x \u001b[39min\u001b[39;00m arr2:\n",
      "\u001b[1;32mf:\\python\\matinverse.ipynb Cell 4'\u001b[0m in \u001b[0;36madjoint\u001b[1;34m(m)\u001b[0m\n\u001b[0;32m      <a href='vscode-notebook-cell:/f%3A/python/matinverse.ipynb#ch0000003?line=3'>4</a>\u001b[0m     row\u001b[39m=\u001b[39m[]\n\u001b[0;32m      <a href='vscode-notebook-cell:/f%3A/python/matinverse.ipynb#ch0000003?line=4'>5</a>\u001b[0m     \u001b[39mfor\u001b[39;00m y \u001b[39min\u001b[39;00m x:\n\u001b[1;32m----> <a href='vscode-notebook-cell:/f%3A/python/matinverse.ipynb#ch0000003?line=5'>6</a>\u001b[0m         row\u001b[39m.\u001b[39mappend(((\u001b[39m-\u001b[39m\u001b[39m1\u001b[39m)\u001b[39m*\u001b[39m\u001b[39m*\u001b[39m(x\u001b[39m+\u001b[39my))\u001b[39m*\u001b[39mdeterminant(getminor(m,x,y)))\n\u001b[0;32m      <a href='vscode-notebook-cell:/f%3A/python/matinverse.ipynb#ch0000003?line=6'>7</a>\u001b[0m     adj\u001b[39m.\u001b[39mappend(row)\n\u001b[0;32m      <a href='vscode-notebook-cell:/f%3A/python/matinverse.ipynb#ch0000003?line=7'>8</a>\u001b[0m finaladj\u001b[39m=\u001b[39mnp\u001b[39m.\u001b[39marray(adj)\n",
      "\u001b[1;32mf:\\python\\matinverse.ipynb Cell 2'\u001b[0m in \u001b[0;36mgetminor\u001b[1;34m(m, i, j)\u001b[0m\n\u001b[0;32m      <a href='vscode-notebook-cell:/f%3A/python/matinverse.ipynb#ch0000001?line=3'>4</a>\u001b[0m row\u001b[39m=\u001b[39m[]\n\u001b[0;32m      <a href='vscode-notebook-cell:/f%3A/python/matinverse.ipynb#ch0000001?line=4'>5</a>\u001b[0m \u001b[39mfor\u001b[39;00m y \u001b[39min\u001b[39;00m \u001b[39mrange\u001b[39m(\u001b[39mlen\u001b[39m(m)):\n\u001b[1;32m----> <a href='vscode-notebook-cell:/f%3A/python/matinverse.ipynb#ch0000001?line=5'>6</a>\u001b[0m     \u001b[39mif\u001b[39;00m x\u001b[39m!=\u001b[39;49mi \u001b[39mor\u001b[39;00m y\u001b[39m!=\u001b[39mj:\n\u001b[0;32m      <a href='vscode-notebook-cell:/f%3A/python/matinverse.ipynb#ch0000001?line=6'>7</a>\u001b[0m         minor\u001b[39m.\u001b[39mappend(m[x,y])\n\u001b[0;32m      <a href='vscode-notebook-cell:/f%3A/python/matinverse.ipynb#ch0000001?line=7'>8</a>\u001b[0m minor\u001b[39m.\u001b[39mappend(row)\n",
      "\u001b[1;31mValueError\u001b[0m: The truth value of an array with more than one element is ambiguous. Use a.any() or a.all()"
     ]
    }
   ],
   "source": [
    "array1=random.randint(1000,size=(n,n))\n",
    "array2=random.rand(n,n)\n",
    "arr=np.add(array1,array2)\n",
    "arr2=adjoint(arr) #creating a matrix with float entries\n",
    "det=determinant(arr)\n",
    "for x in arr2:\n",
    "    for y in x:\n",
    "        y/=det\n",
    "print(arr2)      "
   ]
  }
 ],
 "metadata": {
  "kernelspec": {
   "display_name": "Python 3.10.4 64-bit",
   "language": "python",
   "name": "python3"
  },
  "language_info": {
   "codemirror_mode": {
    "name": "ipython",
    "version": 3
   },
   "file_extension": ".py",
   "mimetype": "text/x-python",
   "name": "python",
   "nbconvert_exporter": "python",
   "pygments_lexer": "ipython3",
   "version": "3.10.4"
  },
  "orig_nbformat": 4,
  "vscode": {
   "interpreter": {
    "hash": "fb4569285eef3a3450cb62085a5b1e0da4bce0af555edc33dcf29baf3acc1368"
   }
  }
 },
 "nbformat": 4,
 "nbformat_minor": 2
}

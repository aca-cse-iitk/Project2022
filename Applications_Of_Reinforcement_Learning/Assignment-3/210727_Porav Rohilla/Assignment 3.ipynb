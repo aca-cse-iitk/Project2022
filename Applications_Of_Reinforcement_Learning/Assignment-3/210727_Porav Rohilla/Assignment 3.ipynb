{
 "cells": [
  {
   "cell_type": "markdown",
   "metadata": {},
   "source": [
    "#### Importing Libraries"
   ]
  },
  {
   "cell_type": "code",
   "execution_count": 57,
   "metadata": {},
   "outputs": [],
   "source": [
    "import pandas as pd\n",
    "import numpy as np\n",
    "import math as m"
   ]
  },
  {
   "cell_type": "markdown",
   "metadata": {},
   "source": [
    "#### Importing Training and Test Dataset and assigning numerical value to Gender"
   ]
  },
  {
   "cell_type": "code",
   "execution_count": 58,
   "metadata": {},
   "outputs": [],
   "source": [
    "T1 = pd.read_csv(\"train.csv\")\n",
    "T1 = T1.fillna(0)\n",
    "T2 = pd.read_csv(\"test.csv\")\n",
    "T2 = T2.fillna(0)\n",
    "key = pd.read_csv(\"gender_submission.csv\")\n",
    "A1 = np.array(T1[['Sex','Age','SibSp','Parch','Fare','Survived']])\n",
    "for i in range(len(A1)):\n",
    "    if A1[i][0] == 'male':\n",
    "        A1[i][0] = 1\n",
    "    elif A1[i][0] == 'female':\n",
    "        A1[i][0] = 0\n",
    "A2 = np.array(T2[['Sex','Age','SibSp','Parch','Fare']])\n",
    "for i in range(len(A2)):\n",
    "    if A2[i][0] == 'male':\n",
    "        A2[i][0] = 1\n",
    "    elif A2[i][0] == 'female':\n",
    "        A2[i][0] = 0"
   ]
  },
  {
   "cell_type": "markdown",
   "metadata": {},
   "source": [
    "#### Defining Sigmoid, cost function and gradient function"
   ]
  },
  {
   "cell_type": "code",
   "execution_count": 59,
   "metadata": {},
   "outputs": [],
   "source": [
    "def sig(a, b):\n",
    "    x = np.dot(a, b)\n",
    "    return 1/(1+m.exp(-x))\n",
    "\n",
    "def cost(a, b):\n",
    "    cos = 0.0\n",
    "    for i in range(len(a)):\n",
    "        cos += -(a[i][5]*m.log(sig(a[i][:5], b)))-((1-a[i][5])*m.log(1-sig(a[i][:5], b)))\n",
    "    return cos/len(a)\n",
    "\n",
    "def gradient(n, a, b):\n",
    "    grade = 0.0\n",
    "    for i in range(len(a)):\n",
    "        grade += a[i][n]*(sig(a[i][:5], b)-a[i][5])\n",
    "    return grade/len(a)\n",
    "\n"
   ]
  },
  {
   "cell_type": "markdown",
   "metadata": {},
   "source": [
    "#### Training the model (Gradient Descent)"
   ]
  },
  {
   "cell_type": "code",
   "execution_count": 60,
   "metadata": {},
   "outputs": [
    {
     "name": "stdout",
     "output_type": "stream",
     "text": [
      "[-0.87398628 -0.00875225 -0.2506803  -0.00440559  0.01471323]\n"
     ]
    }
   ],
   "source": [
    "w = np.array([0.0, 0.0, 0.0, 0.0, 0.0])\n",
    "alpha = 0.0008\n",
    "for j in range(10000): \n",
    "           for i in range (5):\n",
    "                  w[i] -= alpha*gradient(i, A1, w)\n",
    "print(w)"
   ]
  },
  {
   "cell_type": "markdown",
   "metadata": {},
   "source": [
    "#### Checking the accuracy of the Trained Model with the Test Dataset"
   ]
  },
  {
   "cell_type": "code",
   "execution_count": 61,
   "metadata": {},
   "outputs": [
    {
     "name": "stdout",
     "output_type": "stream",
     "text": [
      "The accuracy is  80.38277511961722 %\n"
     ]
    }
   ],
   "source": [
    "acc = 0.0\n",
    "for i in range (len(A2)):\n",
    "    if(abs(sig(A2[i], w) - key.loc[i, 'Survived']) < 0.5):\n",
    "        acc = acc+1\n",
    "print(\"The accuracy is \", acc/len(A2)*100, \"%\")"
   ]
  },
  {
   "cell_type": "markdown",
   "metadata": {},
   "source": [
    "#### Checking the survival of Shreya and Arpit"
   ]
  },
  {
   "cell_type": "code",
   "execution_count": 62,
   "metadata": {},
   "outputs": [
    {
     "name": "stdout",
     "output_type": "stream",
     "text": [
      "Probability of Arpit :  0.281166644872669\n",
      "Probability of Shreya :  0.9991852325941\n"
     ]
    }
   ],
   "source": [
    "arpit = np.array([1, 20, 0, 0, 7.5])\n",
    "print(\"Probability of Arpit : \", sig(arpit, w))\n",
    "\n",
    "shreya = np.array([0, 19 , 1, 1, 512])\n",
    "print(\"Probability of Shreya : \",sig(shreya,w))"
   ]
  }
 ],
 "metadata": {
  "kernelspec": {
   "display_name": "Python 3.10.5 64-bit",
   "language": "python",
   "name": "python3"
  },
  "language_info": {
   "codemirror_mode": {
    "name": "ipython",
    "version": 3
   },
   "file_extension": ".py",
   "mimetype": "text/x-python",
   "name": "python",
   "nbconvert_exporter": "python",
   "pygments_lexer": "ipython3",
   "version": "3.10.5"
  },
  "orig_nbformat": 4,
  "vscode": {
   "interpreter": {
    "hash": "1c9155b390a856af6d5480c6595dc541f45b3de0f4ac811d8cd4cdadb94bea32"
   }
  }
 },
 "nbformat": 4,
 "nbformat_minor": 2
}

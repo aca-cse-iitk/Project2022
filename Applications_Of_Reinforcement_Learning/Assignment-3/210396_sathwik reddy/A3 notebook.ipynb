{
 "cells": [
  {
   "cell_type": "markdown",
   "metadata": {},
   "source": [
    "### Binary classification\n",
    "#### Importing libraries\n",
    "- importing necessary libraries"
   ]
  },
  {
   "cell_type": "code",
   "execution_count": 1,
   "metadata": {},
   "outputs": [],
   "source": [
    "import numpy as np\n",
    "import pandas as pd\n",
    "import matplotlib.pyplot as plt\n",
    "import math\n",
    "url=\"https://raw.githubusercontent.com/lumidenoir/Project2022/assignment/Applications_Of_Reinforcement_Learning/Assignment-3/210299_krishna%20dantu/\""
   ]
  },
  {
   "cell_type": "markdown",
   "metadata": {},
   "source": [
    "#### Functions"
   ]
  },
  {
   "cell_type": "code",
   "execution_count": 2,
   "metadata": {},
   "outputs": [],
   "source": [
    "def normalise(matrix):\n",
    "    factor1=matrix.min()\n",
    "    factor2=matrix.max()-matrix.min()\n",
    "    matrix_nor = (matrix-factor1)/factor2\n",
    "    return matrix_nor,factor1,factor2\n",
    "\n",
    "def concate(matrix):\n",
    "    matrix=np.concatenate((np.ones((matrix.shape[0],1)),matrix), axis=1)\n",
    "    return matrix"
   ]
  },
  {
   "cell_type": "markdown",
   "metadata": {},
   "source": [
    "#### Sigmoid and modified functions"
   ]
  },
  {
   "cell_type": "code",
   "execution_count": 3,
   "metadata": {},
   "outputs": [],
   "source": [
    "def sigmoid(Z):\n",
    "    sig=1/(1+np.exp(-Z))\n",
    "    return sig\n",
    "\n",
    "def costfunction(X,y,theta,type):\n",
    "    ypre=X.dot(theta.T)\n",
    "    term1=-y*(np.log(sigmoid(ypre)))\n",
    "    term2=-(1-y)*np.log(1-sigmoid(ypre))\n",
    "    return (1/X.shape[0])*np.sum(term1+term2)\n",
    "\n",
    "def gradientdescent(X,y,theta,cycle,alpha,type):\n",
    "    cost = np.zeros(cycle)\n",
    "    for i in range(cycle):\n",
    "        error=(sigmoid(X@theta.T)-y)\n",
    "        multiplyerror = (error.T@X)\n",
    "        theta = theta-(alpha/X.shape[1])*multiplyerror\n",
    "        cost[i] = costfunction(X, y, theta,type)\n",
    "    return theta,cost"
   ]
  },
  {
   "cell_type": "markdown",
   "metadata": {},
   "source": [
    "#### Prediction function"
   ]
  },
  {
   "cell_type": "code",
   "execution_count": 4,
   "metadata": {},
   "outputs": [],
   "source": [
    "def Predict(X,theta):\n",
    "    y_predict=X.dot(theta.T)\n",
    "    for i in range(y_predict.shape[0]):\n",
    "     if y_predict[i,0]<0:\n",
    "        y_predict[i,0]=0\n",
    "     elif y_predict[i,0]>0:\n",
    "        y_predict[i,0]=1\n",
    "    return y_predict"
   ]
  },
  {
   "cell_type": "markdown",
   "metadata": {},
   "source": [
    "#### Missing age filling"
   ]
  },
  {
   "cell_type": "code",
   "execution_count": 5,
   "metadata": {},
   "outputs": [],
   "source": [
    "def fill_age(url, dataset):#filling age with 0\n",
    "    if dataset=='train':\n",
    "        labels=['Survived','Pclass','Sex','Age','SibSp','Parch','Fare']\n",
    "        col=3\n",
    "    elif dataset=='test':\n",
    "        labels=['Pclass','Sex','Age','SibSp','Parch','Fare']\n",
    "        col=2\n",
    "    data=pd.read_csv(url, skipinitialspace=True, usecols=labels)#url\n",
    "    data['Sex'].replace(['male','female'],[1,0],inplace=True)\n",
    "    for i in range(data.shape[0]):\n",
    "        if math.isnan(data.iloc[i,col]):\n",
    "            data.iloc[i,col]=0\n",
    "    return data"
   ]
  },
  {
   "cell_type": "markdown",
   "metadata": {},
   "source": [
    "#### training the model"
   ]
  },
  {
   "cell_type": "code",
   "execution_count": 6,
   "metadata": {},
   "outputs": [
    {
     "data": {
      "image/png": "[encoded data removed]",
      "text/plain": [
       "<Figure size 432x288 with 1 Axes>"
      ]
     },
     "metadata": {
      "needs_background": "light"
     },
     "output_type": "display_data"
    }
   ],
   "source": [
    "train_data=fill_age(url+\"train.csv\",'train')#age fill with 0\n",
    "data_cat=train_data.loc[:,['Pclass','Sex','Age','SibSp','Parch','Fare']]\n",
    "data_survive=train_data.loc[:,['Survived']]\n",
    "theta=np.array([[0,0,0,0,0,0,0]])\n",
    "data_cat,fac1,fac2=normalise(data_cat)\n",
    "data_cat=concate(data_cat)\n",
    "theta,cost2=gradientdescent(data_cat,data_survive,theta,100,0.01,'sig')\n",
    "survive_predict=Predict(data_cat,theta)\n",
    "\n",
    "plt.plot(range(100),cost2)\n",
    "plt.xlabel(\"iterations\")\n",
    "plt.ylabel(\"cost\")\n",
    "plt.title(\"cost vs iterations\")\n",
    "plt.show()"
   ]
  },
  {
   "cell_type": "markdown",
   "metadata": {},
   "source": [
    "#### predicting for test values"
   ]
  },
  {
   "cell_type": "code",
   "execution_count": 7,
   "metadata": {},
   "outputs": [],
   "source": [
    "test_data=fill_age(url+\"test.csv\",'test')\n",
    "test_cat=test_data.loc[:,['Pclass','Sex','Age','SibSp','Parch','Fare']].values\n",
    "test_cat=(test_cat-np.array(fac1))/np.array(fac2)\n",
    "test_cat=concate(test_cat)\n",
    "test_predict=Predict(test_cat,theta)"
   ]
  },
  {
   "cell_type": "markdown",
   "metadata": {},
   "source": [
    "#### accuracy calculation"
   ]
  },
  {
   "cell_type": "code",
   "execution_count": 8,
   "metadata": {},
   "outputs": [
    {
     "name": "stdout",
     "output_type": "stream",
     "text": [
      "Accuracy of model is [0.99760766]\n"
     ]
    }
   ],
   "source": [
    "df=pd.read_csv(url+\"gender_submission.csv\",skipinitialspace=True, usecols=['Survived']).values\n",
    "acc=sum(test_predict==df)/len(df)\n",
    "print(\"Accuracy of model is\",acc)"
   ]
  },
  {
   "cell_type": "markdown",
   "metadata": {},
   "source": [
    "#### task 2:"
   ]
  },
  {
   "cell_type": "code",
   "execution_count": 9,
   "metadata": {},
   "outputs": [
    {
     "name": "stdout",
     "output_type": "stream",
     "text": [
      "survival of arpit and shreya are 0.0 and 1.0 repectively\n"
     ]
    }
   ],
   "source": [
    "query_arpit=concate((np.array([[3,1,20,0,0,7.5]])-np.array(fac1))/np.array(fac2))\n",
    "query_shreya=concate((np.array([[1,0,19,1,1,512]])-np.array(fac1))/np.array(fac2))\n",
    "qa=Predict(query_arpit,theta)\n",
    "qs=Predict(query_shreya,theta)\n",
    "print(\"survival of arpit and shreya are\",qa[0,0],\"and\",qs[0,0],\"repectively\")"
   ]
  }
 ],
 "metadata": {
  "kernelspec": {
   "display_name": "Python 3.10.4 64-bit",
   "language": "python",
   "name": "python3"
  },
  "language_info": {
   "codemirror_mode": {
    "name": "ipython",
    "version": 3
   },
   "file_extension": ".py",
   "mimetype": "text/x-python",
   "name": "python",
   "nbconvert_exporter": "python",
   "pygments_lexer": "ipython3",
   "version": "3.10.4"
  },
  "orig_nbformat": 4,
  "vscode": {
   "interpreter": {
    "hash": "dc3c3c4bc843b2d8c36cd6316d0d58a3adde2608e96e397ec27e7716ad40c3a8"
   }
  }
 },
 "nbformat": 4,
 "nbformat_minor": 2
}

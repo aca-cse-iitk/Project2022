{
 "cells": [
  {
   "cell_type": "markdown",
   "metadata": {},
   "source": [
    "### Importing libraries"
   ]
  },
  {
   "cell_type": "code",
   "execution_count": null,
   "metadata": {},
   "outputs": [],
   "source": [
    "import numpy as np\n",
    "import pandas as pd\n",
    "import matplotlib as plt\n",
    "from cmath import exp\n",
    "import math"
   ]
  },
  {
   "cell_type": "markdown",
   "metadata": {},
   "source": [
    "### Hypothesis\n"
   ]
  },
  {
   "cell_type": "code",
   "execution_count": null,
   "metadata": {},
   "outputs": [],
   "source": [
    "def hypothesis(thetha,x):\n",
    "    return np.dot(x,thetha)"
   ]
  },
  {
   "cell_type": "markdown",
   "metadata": {},
   "source": [
    "### Sigmoid Function"
   ]
  },
  {
   "cell_type": "code",
   "execution_count": null,
   "metadata": {},
   "outputs": [],
   "source": [
    "def sigmoid(thetha,x):\n",
    "    z = hypothesis(thetha,x)\n",
    "    return np.divide(1,np.add(1,np.power(math.e,-z)))"
   ]
  },
  {
   "cell_type": "markdown",
   "metadata": {},
   "source": [
    "### Cost Function"
   ]
  },
  {
   "cell_type": "code",
   "execution_count": null,
   "metadata": {},
   "outputs": [],
   "source": [
    "def computeCost(x,y,m,n,thetha):\n",
    "    y1 = sigmoid(thetha,x)\n",
    "    cost = -np.sum(np.add(np.multiply(y,np.log(y1)), np.multiply(np.subtract(1,y),np.log(np.subtract(1,y1)))))\n",
    "    return cost/m"
   ]
  },
  {
   "cell_type": "markdown",
   "metadata": {},
   "source": [
    "### Gradient Descent\n"
   ]
  },
  {
   "cell_type": "code",
   "execution_count": null,
   "metadata": {},
   "outputs": [],
   "source": [
    "def gradientDescent(x,y,m,n,thetha,alpha,i):\n",
    "    J=[]\n",
    "    k=0\n",
    "    while(k<i):\n",
    "        y1 = hypothesis(thetha,x)\n",
    "        thetha = thetha - (alpha/m)*np.dot(x.transpose(),y1-y)\n",
    "        j=computeCost(x,y,m,n,thetha)\n",
    "        J.append(j)\n",
    "        k+=1\n",
    "    return J, j, thetha"
   ]
  },
  {
   "cell_type": "markdown",
   "metadata": {},
   "source": [
    "### Extracting training data and converting it into arrays"
   ]
  },
  {
   "cell_type": "code",
   "execution_count": null,
   "metadata": {},
   "outputs": [],
   "source": [
    "train = pd.read_csv(\"train (1).csv\")\n",
    "train = train.fillna(0)\n",
    "x1 = train.iloc[:,4].values\n",
    "for i in range(len(x1)):\n",
    "    if (x1[i] == 'male'):\n",
    "        x1[i] = 1\n",
    "    else:\n",
    "        x1[i] = 0\n",
    "x1 = x1.reshape(x1.shape[0],1)\n",
    "x=np.array(train[['Age','SibSp','Parch','Fare']])\n",
    "x = np.append(x1,x,axis=1)\n",
    "y = np.array(train[['Survived']])\n",
    "m = np.size(x,0)\n",
    "n = np.size(x,1)\n"
   ]
  },
  {
   "cell_type": "code",
   "execution_count": null,
   "metadata": {},
   "outputs": [],
   "source": [
    "thetha = np.array([0]*n)\n",
    "thetha = thetha.reshape(thetha.shape[0],1)\n",
    "J, j, thetha = gradientDescent(x, y,m,n,thetha, 0.02, 5000)"
   ]
  },
  {
   "cell_type": "markdown",
   "metadata": {},
   "source": [
    "### Plotting Cost Function"
   ]
  },
  {
   "cell_type": "code",
   "execution_count": null,
   "metadata": {},
   "outputs": [],
   "source": [
    "plt.scatter(x=list(range(0, 5000)), y=J)\n",
    "plt.show()"
   ]
  },
  {
   "cell_type": "markdown",
   "metadata": {},
   "source": [
    "### Testing"
   ]
  },
  {
   "cell_type": "code",
   "execution_count": null,
   "metadata": {},
   "outputs": [],
   "source": [
    "test=pd.read_csv(\"test.csv\")\n",
    "test2 = pd.read_csv(\"gender_submission.csv\")\n",
    "test=test.fillna(0)\n",
    "x2 = test.iloc[:,3].values\n",
    "for i in range(len(x2)):\n",
    "    if (x2[i] == 'male'):\n",
    "        x2[i] = 1\n",
    "    else:\n",
    "        x2[i] = 0\n",
    "x2 = x2.reshape(x2.shape[0],1)\n",
    "xtest=np.array(test[['Age','SibSp','Parch','Fare']])\n",
    "xtest = np.append(x2,xtest,axis=1)\n",
    "ytest = np.array(test2[['Survived']])\n",
    "m1 = np.size(xtest,0)\n",
    "n1 = np.size(xtest,1)\n",
    "k=0.0\n",
    "for i in range(m1):\n",
    "    if(abs(sigmoid(thetha,xtest[i])-ytest[i])<0.5):\n",
    "        k=k+1\n",
    "print(\"Accuracy of this model:\",k/m*100,\"%\")"
   ]
  },
  {
   "cell_type": "markdown",
   "metadata": {},
   "source": [
    "### Predicting survival probabilities for Arpit and Shreya"
   ]
  },
  {
   "cell_type": "code",
   "execution_count": null,
   "metadata": {},
   "outputs": [],
   "source": [
    "arpit=np.array([1,20,0,0,7.5])\n",
    "print(\"The survival probabilty for Arpit is\",sigmoid(thetha,arpit))\n",
    "shreya=np.array([0,19,1,1,512])\n",
    "print(\"The survival probabilty for Shreya is\",sigmoid(thetha,shreya))"
   ]
  }
 ],
 "metadata": {
  "kernelspec": {
   "display_name": "Python 3.10.5 64-bit",
   "language": "python",
   "name": "python3"
  },
  "language_info": {
   "codemirror_mode": {
    "name": "ipython",
    "version": 3
   },
   "file_extension": ".py",
   "mimetype": "text/x-python",
   "name": "python",
   "nbconvert_exporter": "python",
   "pygments_lexer": "ipython3",
   "version": "3.10.5"
  },
  "orig_nbformat": 4,
  "vscode": {
   "interpreter": {
    "hash": "027efd7095115064582efab50921964d678032cf36f1ec215c675cf4ffc5e6b9"
   }
  }
 },
 "nbformat": 4,
 "nbformat_minor": 2
}

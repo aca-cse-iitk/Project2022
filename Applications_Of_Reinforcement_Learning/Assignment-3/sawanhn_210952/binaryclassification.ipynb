{
 "cells": [
  {
   "cell_type": "code",
   "execution_count": 51,
   "metadata": {},
   "outputs": [],
   "source": [
    "import numpy as np\n",
    "import pandas as pd\n",
    "import matplotlib as plt\n",
    "import math "
   ]
  },
  {
   "cell_type": "code",
   "execution_count": 52,
   "metadata": {},
   "outputs": [],
   "source": [
    "def z(variables,data):\n",
    "    return np.matmul(data,variables.transpose())"
   ]
  },
  {
   "cell_type": "code",
   "execution_count": 53,
   "metadata": {},
   "outputs": [],
   "source": [
    "def sigmoidalfn(value):\n",
    "    for x in value:\n",
    "        x=1/(1+math.exp(-x))\n",
    "    return value    "
   ]
  },
  {
   "cell_type": "code",
   "execution_count": 54,
   "metadata": {},
   "outputs": [],
   "source": [
    "def cost(labels,wholedata,variables):\n",
    "    j1=-(np.matmul(labels,np.log(sigmoidalfn((np.matmul(wholedata,variables.transpose())).transpose()))))\n",
    "    j2=-(np.matmul(np.subtract(1,labels),np.log(np.subtract(1,sigmoidalfn((np.matmul(wholedata,variables.transpose())).transpose())))))\n",
    "    return (j1+j2)/len(wholedata)"
   ]
  },
  {
   "cell_type": "code",
   "execution_count": 55,
   "metadata": {},
   "outputs": [],
   "source": [
    "def gradientdecent(wholedata,labels,variables,iterations,alpha):\n",
    "    J=[]\n",
    "    k=0\n",
    "    while k<iterations:\n",
    "        var1=np.subtract(sigmoidalfn((np.matmul(wholedata,variables.transpose())).transpose()),labels)\n",
    "        variables-=(alpha*(np.matmul(var1,wholedata)))\n",
    "        variables/=len(wholedata)\n",
    "        k+=1\n",
    "        J.append(cost(labels,wholedata,variables))\n",
    "    return J,variables    "
   ]
  },
  {
   "cell_type": "code",
   "execution_count": 56,
   "metadata": {},
   "outputs": [],
   "source": [
    "#mainfunc\n",
    "df=pd.read_csv('train.csv')\n",
    "features=['Sex','Age','SibSp','Parch','Fare']\n",
    "for x in df.Sex:\n",
    "    if x=='male':\n",
    "        x=1\n",
    "    else:\n",
    "        x=0    \n",
    "yi=np.array(df[['Survived']])\n",
    "dataset=np.array(df[features])\n",
    "theta=np.array([0,0,0,0,0])"
   ]
  },
  {
   "cell_type": "code",
   "execution_count": null,
   "metadata": {},
   "outputs": [],
   "source": [
    "J_min,fianltheta=gradientdecent(dataset,yi,theta,2000,0.001)\n",
    "plt.scatter(list.range(1,2000),J_min)\n",
    "plt.show()"
   ]
  },
  {
   "cell_type": "code",
   "execution_count": null,
   "metadata": {},
   "outputs": [],
   "source": [
    "df1=pd.read_csv('test.csv')\n",
    "features1=['Sex','Age','SibSp','Parch','Fare']\n",
    "for x in df1.Sex:\n",
    "    if x=='male':\n",
    "        x=1\n",
    "    else:\n",
    "        x=0    \n",
    "dataset=np.array(df1[features1])\n",
    "prediction=z(fianltheta,sigmoidalfn(dataset))\n",
    "print(prediction)"
   ]
  }
 ],
 "metadata": {
  "kernelspec": {
   "display_name": "Python 3.10.4 64-bit",
   "language": "python",
   "name": "python3"
  },
  "language_info": {
   "codemirror_mode": {
    "name": "ipython",
    "version": 3
   },
   "file_extension": ".py",
   "mimetype": "text/x-python",
   "name": "python",
   "nbconvert_exporter": "python",
   "pygments_lexer": "ipython3",
   "version": "3.10.4"
  },
  "orig_nbformat": 4,
  "vscode": {
   "interpreter": {
    "hash": "fb4569285eef3a3450cb62085a5b1e0da4bce0af555edc33dcf29baf3acc1368"
   }
  }
 },
 "nbformat": 4,
 "nbformat_minor": 2
}
